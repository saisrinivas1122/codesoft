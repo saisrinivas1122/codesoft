{
  "nbformat": 4,
  "nbformat_minor": 0,
  "metadata": {
    "colab": {
      "provenance": [],
      "authorship_tag": "ABX9TyPyfqhzGTiyUh86bBGVflkU",
      "include_colab_link": true
    },
    "kernelspec": {
      "name": "python3",
      "display_name": "Python 3"
    },
    "language_info": {
      "name": "python"
    }
  },
  "cells": [
    {
      "cell_type": "markdown",
      "metadata": {
        "id": "view-in-github",
        "colab_type": "text"
      },
      "source": [
        "<a href=\"https://colab.research.google.com/github/saisrinivas1122/codesoft/blob/main/calculator_.ipynb\" target=\"_parent\"><img src=\"https://colab.research.google.com/assets/colab-badge.svg\" alt=\"Open In Colab\"/></a>"
      ]
    },
    {
      "cell_type": "code",
      "source": [
        "#addition\n",
        "def add(num1,num2):\n",
        "   return num1+num2;\n",
        "\n",
        "#subtraction\n",
        "def subtract(num1,num2):\n",
        "   return num1-num2;\n",
        "\n",
        "#multiplication\n",
        "def multiply(num1,num2):\n",
        "   return num1*num2;\n",
        "\n",
        "#division\n",
        "def divide(num1,num2):\n",
        "   return num1/num2;\n",
        "\n",
        "#operation to be done\n",
        "print(\"enter any number to perform operation:\")\n",
        "print(\"1.Addition\")\n",
        "print(\"2.Subtraction\")\n",
        "print(\"3.Multiplication\")\n",
        "print(\"4.Division\")\n",
        "\n",
        "#Taking inputs\n",
        "operator=input()\n",
        "num1=int(input(\"enter a number\"))\n",
        "num2=int(input(\"enter a number\"))\n",
        "\n",
        "#writing a if-else blocks for performing the operation\n",
        "if(operator==\"1\"):\n",
        "   sum=add(num1,num2)\n",
        "   print(\"The sum is:\",(float(sum)))\n",
        "\n",
        "elif(operator==\"2\"):\n",
        "    sub=subtract(num1,num2)\n",
        "    print(\"The difference is:\",(float(sub)))\n",
        "\n",
        "elif(operator==\"3\"):\n",
        "   mul=multiply(num1,num2)\n",
        "   print(\"The product is:\",(float(mul)))\n",
        "\n",
        "elif(operator==\"4\"):\n",
        "   div=divide(num1,num2)\n",
        "   print(\"The division is:\",(float(div)))\n",
        "\n",
        "else:\n",
        "  print(\"Invalid! Enter a valid operator\")"
      ],
      "metadata": {
        "colab": {
          "base_uri": "https://localhost:8080/"
        },
        "id": "9ns7QuqjcMUW",
        "outputId": "1e91646a-7e03-4d7e-c526-e988f7ce553a"
      },
      "execution_count": 1,
      "outputs": [
        {
          "output_type": "stream",
          "name": "stdout",
          "text": [
            "enter any number to perform operation:\n",
            "1.Addition\n",
            "2.Subtraction\n",
            "3.Multiplication\n",
            "4.Division\n",
            "1\n",
            "enter a number23\n",
            "enter a number44\n",
            "The sum is: 67.0\n"
          ]
        }
      ]
    },
    {
      "cell_type": "code",
      "source": [],
      "metadata": {
        "id": "HrfP6YS3dN6n"
      },
      "execution_count": null,
      "outputs": []
    }
  ]
}