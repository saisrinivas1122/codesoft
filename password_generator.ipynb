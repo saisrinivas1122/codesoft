{
  "nbformat": 4,
  "nbformat_minor": 0,
  "metadata": {
    "colab": {
      "provenance": [],
      "toc_visible": true,
      "authorship_tag": "ABX9TyNS1ffgzeGOFQRiFWmWz8rS",
      "include_colab_link": true
    },
    "kernelspec": {
      "name": "python3",
      "display_name": "Python 3"
    },
    "language_info": {
      "name": "python"
    }
  },
  "cells": [
    {
      "cell_type": "markdown",
      "metadata": {
        "id": "view-in-github",
        "colab_type": "text"
      },
      "source": [
        "<a href=\"https://colab.research.google.com/github/saisrinivas1122/codesoft/blob/main/password_generator.ipynb\" target=\"_parent\"><img src=\"https://colab.research.google.com/assets/colab-badge.svg\" alt=\"Open In Colab\"/></a>"
      ]
    },
    {
      "cell_type": "code",
      "execution_count": null,
      "metadata": {
        "colab": {
          "base_uri": "https://localhost:8080/"
        },
        "id": "_lLlMNdccZ5o",
        "outputId": "9c26fc91-278e-43fc-9939-ab9e4ff0a363"
      },
      "outputs": [
        {
          "output_type": "stream",
          "name": "stdout",
          "text": [
            "Password Generator\n",
            "Enter the desired length of the password: 5\n",
            "Generated Password: SZ5:+\n"
          ]
        }
      ],
      "source": [
        "import random\n",
        "import string\n",
        "\n",
        "def generate_password(length):\n",
        "    # Define the characters to use for generating the password\n",
        "    characters = string.ascii_letters + string.digits + string.punctuation\n",
        "\n",
        "    # Generate the password using random.choice() to select characters randomly\n",
        "    password = ''.join(random.choice(characters) for _ in range(length))\n",
        "\n",
        "    return password\n",
        "\n",
        "def main():\n",
        "    print(\"Password Generator\")\n",
        "    length = int(input(\"Enter the desired length of the password: \"))\n",
        "\n",
        "    # Check if the specified length is valid\n",
        "    if length <= 0:\n",
        "        print(\"Invalid length. Please enter a positive integer.\")\n",
        "        return\n",
        "\n",
        "    # Generate and display the password\n",
        "    password = generate_password(length)\n",
        "    print(\"Generated Password:\", password)\n",
        "\n",
        "# Corrected block to run the main function\n",
        "if __name__ == \"__main__\":\n",
        "    main()\n",
        "\n"
      ]
    },
    {
      "cell_type": "code",
      "source": [],
      "metadata": {
        "id": "aZejUWbpXyJS"
      },
      "execution_count": null,
      "outputs": []
    }
  ]
}