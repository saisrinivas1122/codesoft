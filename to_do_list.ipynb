{
  "nbformat": 4,
  "nbformat_minor": 0,
  "metadata": {
    "colab": {
      "provenance": [],
      "authorship_tag": "ABX9TyOvCxKllvtF0HBenP2F4pZr",
      "include_colab_link": true
    },
    "kernelspec": {
      "name": "python3",
      "display_name": "Python 3"
    },
    "language_info": {
      "name": "python"
    }
  },
  "cells": [
    {
      "cell_type": "markdown",
      "metadata": {
        "id": "view-in-github",
        "colab_type": "text"
      },
      "source": [
        "<a href=\"https://colab.research.google.com/github/saisrinivas1122/codesoft/blob/main/to_do_list.ipynb\" target=\"_parent\"><img src=\"https://colab.research.google.com/assets/colab-badge.svg\" alt=\"Open In Colab\"/></a>"
      ]
    },
    {
      "cell_type": "code",
      "source": [
        "import os\n",
        "\n",
        "# Function to display the menu\n",
        "def display_menu():\n",
        "    print(\"To-Do List Menu:\")\n",
        "    print(\"1. View To-Do List\")\n",
        "    print(\"2. Add Task\")\n",
        "    print(\"3. Mark Task as Completed\")\n",
        "    print(\"4. Delete Task\")\n",
        "    print(\"5. Exit\")\n",
        "\n",
        "# Function to view the current To-Do List\n",
        "def view_todo_list(todo_list):\n",
        "    if not todo_list:\n",
        "        print(\"Your To-Do List is empty.\")\n",
        "    else:\n",
        "        print(\"Your To-Do List:\")\n",
        "        for i, task in enumerate(todo_list, 1):\n",
        "            print(f\"{i}. {task}\")\n",
        "\n",
        "# Function to add a task to the To-Do List\n",
        "def add_task(todo_list):\n",
        "    task = input(\"Enter the task: \")\n",
        "    todo_list.append(task)\n",
        "    print(\"Task added successfully.\")\n",
        "\n",
        "# Function to mark a task as completed\n",
        "def mark_completed(todo_list):\n",
        "    view_todo_list(todo_list)\n",
        "    index = int(input(\"Enter the task number to mark as completed: \")) - 1\n",
        "    if 0 <= index < len(todo_list):\n",
        "        print(f\"Task '{todo_list[index]}' marked as completed.\")\n",
        "        del todo_list[index]\n",
        "    else:\n",
        "        print(\"Invalid task number.\")\n",
        "\n",
        "# Function to delete a task from the To-Do List\n",
        "def delete_task(todo_list):\n",
        "    view_todo_list(todo_list)\n",
        "    index = int(input(\"Enter the task number to delete: \")) - 1\n",
        "    if 0 <= index < len(todo_list):\n",
        "        print(f\"Task '{todo_list[index]}' deleted.\")\n",
        "        del todo_list[index]\n",
        "    else:\n",
        "        print(\"Invalid task number.\")\n",
        "\n",
        "# Main function\n",
        "def main():\n",
        "    todo_list = []\n",
        "    while True:\n",
        "        display_menu()\n",
        "        choice = input(\"Enter your choice: \")\n",
        "        if choice == \"1\":\n",
        "            view_todo_list(todo_list)\n",
        "        elif choice == \"2\":\n",
        "            add_task(todo_list)\n",
        "        elif choice == \"3\":\n",
        "            mark_completed(todo_list)\n",
        "        elif choice == \"4\":\n",
        "            delete_task(todo_list)\n",
        "        elif choice == \"5\":\n",
        "            print(\"Exiting the To-Do List application.\")\n",
        "            break\n",
        "        else:\n",
        "            print(\"Invalid choice. Please try again.\")\n",
        "\n",
        "if __name__ == \"__main__\":\n",
        "    main()\n"
      ],
      "metadata": {
        "colab": {
          "base_uri": "https://localhost:8080/"
        },
        "id": "Qq9mpGQoWiTF",
        "outputId": "9cfa6717-ab48-44d9-b016-fb188026546a"
      },
      "execution_count": 4,
      "outputs": [
        {
          "output_type": "stream",
          "name": "stdout",
          "text": [
            "To-Do List Menu:\n",
            "1. View To-Do List\n",
            "2. Add Task\n",
            "3. Mark Task as Completed\n",
            "4. Delete Task\n",
            "5. Exit\n",
            "Enter your choice: 2\n",
            "Enter the task: 4\n",
            "Task added successfully.\n",
            "To-Do List Menu:\n",
            "1. View To-Do List\n",
            "2. Add Task\n",
            "3. Mark Task as Completed\n",
            "4. Delete Task\n",
            "5. Exit\n",
            "Enter your choice: 4\n",
            "Your To-Do List:\n",
            "1. 4\n",
            "Enter the task number to delete: 2\n",
            "Invalid task number.\n",
            "To-Do List Menu:\n",
            "1. View To-Do List\n",
            "2. Add Task\n",
            "3. Mark Task as Completed\n",
            "4. Delete Task\n",
            "5. Exit\n",
            "Enter your choice: 5\n",
            "Exiting the To-Do List application.\n"
          ]
        }
      ]
    },
    {
      "cell_type": "code",
      "source": [],
      "metadata": {
        "id": "lYIu_ejCcIzZ"
      },
      "execution_count": null,
      "outputs": []
    }
  ]
}